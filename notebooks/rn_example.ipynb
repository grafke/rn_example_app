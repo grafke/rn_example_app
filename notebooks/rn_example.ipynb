{
 "cells": [
  {
   "cell_type": "code",
   "execution_count": null,
   "metadata": {},
   "outputs": [],
   "source": [
    "URL = ''"
   ]
  },
  {
   "cell_type": "code",
   "execution_count": 1,
   "metadata": {},
   "outputs": [
    {
     "data": {
      "text/plain": [
       "True"
      ]
     },
     "execution_count": 1,
     "metadata": {},
     "output_type": "execute_result"
    }
   ],
   "source": [
    "import pandas as pd\n",
    "from web3 import Web3\n",
    "\n",
    "w3 = Web3(Web3.HTTPProvider(URL))\n",
    "w3.isConnected()"
   ]
  },
  {
   "cell_type": "code",
   "execution_count": 2,
   "metadata": {},
   "outputs": [
    {
     "data": {
      "text/plain": [
       "datetime.datetime(1970, 1, 1, 0, 0)"
      ]
     },
     "execution_count": 2,
     "metadata": {},
     "output_type": "execute_result"
    }
   ],
   "source": [
    "import datetime\n",
    "datetime.datetime.utcfromtimestamp(0)"
   ]
  },
  {
   "cell_type": "code",
   "execution_count": 3,
   "metadata": {},
   "outputs": [],
   "source": [
    "df = pd.read_csv('../resources/ethereum_txs.csv').head()"
   ]
  },
  {
   "cell_type": "code",
   "execution_count": 4,
   "metadata": {},
   "outputs": [],
   "source": [
    "def tx_receipt(tx_hash):\n",
    "    return w3.eth.get_transaction_receipt(tx_hash)\n",
    "\n",
    "def execution_timestamp_from_tx_hash(receipt):\n",
    "    ts = w3.eth.get_block(receipt.get('blockNumber')).timestamp\n",
    "    return pd.to_datetime(ts,unit='s')\n",
    "\n",
    "def gas_cost(receipt):\n",
    "    return receipt.get('gasUsed')\n",
    "    \n",
    "df['receipt'] = df['hash'].apply(lambda x: tx_receipt(x))"
   ]
  },
  {
   "cell_type": "markdown",
   "metadata": {},
   "source": [
    "### 1. Assuming block length is 13 seconds, compute the approximate execution timestamp of each transaction."
   ]
  },
  {
   "cell_type": "code",
   "execution_count": 5,
   "metadata": {},
   "outputs": [],
   "source": [
    "df['approx_exec_timestamp'] = df['receipt'].apply(lambda x: execution_timestamp_from_tx_hash(x))"
   ]
  },
  {
   "cell_type": "markdown",
   "metadata": {},
   "source": [
    "### 2. Compute the gas cost of each transaction in Gwei (1e-9 ETH)."
   ]
  },
  {
   "cell_type": "code",
   "execution_count": 6,
   "metadata": {},
   "outputs": [],
   "source": [
    "gwei_to_eth = 0.000000001\n",
    "df['gas_cost_gwei'] = df['receipt'].apply(lambda x: gas_cost(x))\n",
    "df['gas_cost_eth'] = df['receipt'].apply(lambda x: gas_cost(x) * gwei_to_eth)"
   ]
  },
  {
   "cell_type": "markdown",
   "metadata": {},
   "source": [
    "### 3. Using Coingecko's API, retrieve the approximate price of ETH at transaction execution time and compute the dollar cost of gas used."
   ]
  },
  {
   "cell_type": "code",
   "execution_count": 7,
   "metadata": {},
   "outputs": [],
   "source": [
    "from pycoingecko import CoinGeckoAPI\n",
    "cg = CoinGeckoAPI()"
   ]
  },
  {
   "cell_type": "code",
   "execution_count": 8,
   "metadata": {
    "scrolled": false
   },
   "outputs": [],
   "source": [
    "def eth_hist_price(date):\n",
    "    eth_hist_price = cg.get_coin_history_by_id(id='ethereum',date=date, localization='false')\n",
    "    return eth_hist_price[\"market_data\"][\"current_price\"][\"usd\"]\n",
    "\n",
    "df['eth_to_usd'] = df['approx_exec_timestamp'].apply(lambda x: eth_hist_price(x.strftime('%d-%m-%Y')))\n",
    "df['gas_cost_usd'] = df['gas_cost_eth'] * df['eth_to_usd']"
   ]
  },
  {
   "cell_type": "code",
   "execution_count": 10,
   "metadata": {
    "scrolled": false
   },
   "outputs": [
    {
     "data": {
      "text/html": [
       "<div>\n",
       "<style scoped>\n",
       "    .dataframe tbody tr th:only-of-type {\n",
       "        vertical-align: middle;\n",
       "    }\n",
       "\n",
       "    .dataframe tbody tr th {\n",
       "        vertical-align: top;\n",
       "    }\n",
       "\n",
       "    .dataframe thead th {\n",
       "        text-align: right;\n",
       "    }\n",
       "</style>\n",
       "<table border=\"1\" class=\"dataframe\">\n",
       "  <thead>\n",
       "    <tr style=\"text-align: right;\">\n",
       "      <th></th>\n",
       "      <th>hash</th>\n",
       "      <th>nonce</th>\n",
       "      <th>transaction_index</th>\n",
       "      <th>from_address</th>\n",
       "      <th>to_address</th>\n",
       "      <th>value</th>\n",
       "      <th>gas</th>\n",
       "      <th>gas_price</th>\n",
       "      <th>input</th>\n",
       "      <th>receipt_cumulative_gas_used</th>\n",
       "      <th>...</th>\n",
       "      <th>max_fee_per_gas</th>\n",
       "      <th>max_priority_fee_per_gas</th>\n",
       "      <th>transaction_type</th>\n",
       "      <th>receipt_effective_gas_price</th>\n",
       "      <th>receipt</th>\n",
       "      <th>approx_exec_timestamp</th>\n",
       "      <th>gas_cost_gwei</th>\n",
       "      <th>gas_cost_eth</th>\n",
       "      <th>eth_to_usd</th>\n",
       "      <th>gas_cost_usd</th>\n",
       "    </tr>\n",
       "  </thead>\n",
       "  <tbody>\n",
       "    <tr>\n",
       "      <th>0</th>\n",
       "      <td>0x0ba5abf4ef9eedb75a7fd5e645034288e02c6c4fafeb...</td>\n",
       "      <td>4</td>\n",
       "      <td>194</td>\n",
       "      <td>0x0057be07beef5d9b4beb9e2d147906e83d1915c8</td>\n",
       "      <td>0x8f26d7bab7a73309141a291525c965ecdea7bf42</td>\n",
       "      <td>0</td>\n",
       "      <td>287272</td>\n",
       "      <td>32035059237</td>\n",
       "      <td>0x51dbb2a7000000000000000000000000000000000000...</td>\n",
       "      <td>13012784</td>\n",
       "      <td>...</td>\n",
       "      <td>32035059237</td>\n",
       "      <td>32035059237</td>\n",
       "      <td>2</td>\n",
       "      <td>32035059237</td>\n",
       "      <td>(blockHash, blockNumber, contractAddress, cumu...</td>\n",
       "      <td>2022-07-04 18:40:00</td>\n",
       "      <td>186594</td>\n",
       "      <td>0.000187</td>\n",
       "      <td>1074.607318</td>\n",
       "      <td>0.200515</td>\n",
       "    </tr>\n",
       "    <tr>\n",
       "      <th>1</th>\n",
       "      <td>0xd9f7b8f96374bfc016b7806e6009d88bd3471cebdeb5...</td>\n",
       "      <td>64</td>\n",
       "      <td>32</td>\n",
       "      <td>0x05db73fa65d49f58aab135a2cb00ecb323d37734</td>\n",
       "      <td>0xa906eef381cf828f0f2bfcc6e714a34fd4e80399</td>\n",
       "      <td>0</td>\n",
       "      <td>176541</td>\n",
       "      <td>35887544445</td>\n",
       "      <td>0xa0712d68000000000000000000000000000000000000...</td>\n",
       "      <td>2344231</td>\n",
       "      <td>...</td>\n",
       "      <td>315000000000</td>\n",
       "      <td>5250000000</td>\n",
       "      <td>2</td>\n",
       "      <td>35887544445</td>\n",
       "      <td>(blockHash, blockNumber, contractAddress, cumu...</td>\n",
       "      <td>2022-07-04 18:40:00</td>\n",
       "      <td>28547</td>\n",
       "      <td>0.000029</td>\n",
       "      <td>1074.607318</td>\n",
       "      <td>0.030677</td>\n",
       "    </tr>\n",
       "    <tr>\n",
       "      <th>2</th>\n",
       "      <td>0xe27d930e2abe7de368f0c7189dce87bb10b418243f04...</td>\n",
       "      <td>69</td>\n",
       "      <td>189</td>\n",
       "      <td>0x28ac4256cf83d83a299547398c2ad40e17d641ee</td>\n",
       "      <td>0xf9936bc175f4777d85351738ef869b3ad7e7072d</td>\n",
       "      <td>0</td>\n",
       "      <td>120510</td>\n",
       "      <td>32047544445</td>\n",
       "      <td>0x5915d806000000000000000000000000000000000000...</td>\n",
       "      <td>12593820</td>\n",
       "      <td>...</td>\n",
       "      <td>33997117753</td>\n",
       "      <td>1410000000</td>\n",
       "      <td>2</td>\n",
       "      <td>32047544445</td>\n",
       "      <td>(blockHash, blockNumber, contractAddress, cumu...</td>\n",
       "      <td>2022-07-04 18:40:00</td>\n",
       "      <td>96408</td>\n",
       "      <td>0.000096</td>\n",
       "      <td>1074.607318</td>\n",
       "      <td>0.103601</td>\n",
       "    </tr>\n",
       "    <tr>\n",
       "      <th>3</th>\n",
       "      <td>0x44eeacb135324e9195da609a7984df7bd8264e453bca...</td>\n",
       "      <td>315</td>\n",
       "      <td>7</td>\n",
       "      <td>0x1b915e753b3e213144092b0235910d35fc3288fb</td>\n",
       "      <td>0x7a250d5630b4cf539739df2c5dacb4c659f2488d</td>\n",
       "      <td>50000000000000000</td>\n",
       "      <td>216629</td>\n",
       "      <td>31000000000</td>\n",
       "      <td>0xb6f9de95000000000000000000000000000000000000...</td>\n",
       "      <td>599785</td>\n",
       "      <td>...</td>\n",
       "      <td>31000000000</td>\n",
       "      <td>31000000000</td>\n",
       "      <td>2</td>\n",
       "      <td>31000000000</td>\n",
       "      <td>(blockHash, blockNumber, contractAddress, cumu...</td>\n",
       "      <td>2022-07-04 20:56:32</td>\n",
       "      <td>145659</td>\n",
       "      <td>0.000146</td>\n",
       "      <td>1074.607318</td>\n",
       "      <td>0.156526</td>\n",
       "    </tr>\n",
       "    <tr>\n",
       "      <th>4</th>\n",
       "      <td>0x3ea88f5873d71c5534048b9444e0f0c76c2e78d30ec8...</td>\n",
       "      <td>6</td>\n",
       "      <td>126</td>\n",
       "      <td>0x6746222866a97b72c97d30e47c3783c68c762ed2</td>\n",
       "      <td>0x283af0b28c62c092c9727f1ee09c02ca627eb7f5</td>\n",
       "      <td>0</td>\n",
       "      <td>46267</td>\n",
       "      <td>17491940126</td>\n",
       "      <td>0xf14fcbc853f93a8e9bb207a3157b27ac5bb3da037807...</td>\n",
       "      <td>14320103</td>\n",
       "      <td>...</td>\n",
       "      <td>19239188764</td>\n",
       "      <td>1243765450</td>\n",
       "      <td>2</td>\n",
       "      <td>17491940126</td>\n",
       "      <td>(blockHash, blockNumber, contractAddress, cumu...</td>\n",
       "      <td>2022-07-04 20:56:32</td>\n",
       "      <td>26170</td>\n",
       "      <td>0.000026</td>\n",
       "      <td>1074.607318</td>\n",
       "      <td>0.028122</td>\n",
       "    </tr>\n",
       "  </tbody>\n",
       "</table>\n",
       "<p>5 rows × 26 columns</p>\n",
       "</div>"
      ],
      "text/plain": [
       "                                                hash  nonce  \\\n",
       "0  0x0ba5abf4ef9eedb75a7fd5e645034288e02c6c4fafeb...      4   \n",
       "1  0xd9f7b8f96374bfc016b7806e6009d88bd3471cebdeb5...     64   \n",
       "2  0xe27d930e2abe7de368f0c7189dce87bb10b418243f04...     69   \n",
       "3  0x44eeacb135324e9195da609a7984df7bd8264e453bca...    315   \n",
       "4  0x3ea88f5873d71c5534048b9444e0f0c76c2e78d30ec8...      6   \n",
       "\n",
       "   transaction_index                                from_address  \\\n",
       "0                194  0x0057be07beef5d9b4beb9e2d147906e83d1915c8   \n",
       "1                 32  0x05db73fa65d49f58aab135a2cb00ecb323d37734   \n",
       "2                189  0x28ac4256cf83d83a299547398c2ad40e17d641ee   \n",
       "3                  7  0x1b915e753b3e213144092b0235910d35fc3288fb   \n",
       "4                126  0x6746222866a97b72c97d30e47c3783c68c762ed2   \n",
       "\n",
       "                                   to_address              value     gas  \\\n",
       "0  0x8f26d7bab7a73309141a291525c965ecdea7bf42                  0  287272   \n",
       "1  0xa906eef381cf828f0f2bfcc6e714a34fd4e80399                  0  176541   \n",
       "2  0xf9936bc175f4777d85351738ef869b3ad7e7072d                  0  120510   \n",
       "3  0x7a250d5630b4cf539739df2c5dacb4c659f2488d  50000000000000000  216629   \n",
       "4  0x283af0b28c62c092c9727f1ee09c02ca627eb7f5                  0   46267   \n",
       "\n",
       "     gas_price                                              input  \\\n",
       "0  32035059237  0x51dbb2a7000000000000000000000000000000000000...   \n",
       "1  35887544445  0xa0712d68000000000000000000000000000000000000...   \n",
       "2  32047544445  0x5915d806000000000000000000000000000000000000...   \n",
       "3  31000000000  0xb6f9de95000000000000000000000000000000000000...   \n",
       "4  17491940126  0xf14fcbc853f93a8e9bb207a3157b27ac5bb3da037807...   \n",
       "\n",
       "   receipt_cumulative_gas_used  ...  max_fee_per_gas max_priority_fee_per_gas  \\\n",
       "0                     13012784  ...      32035059237              32035059237   \n",
       "1                      2344231  ...     315000000000               5250000000   \n",
       "2                     12593820  ...      33997117753               1410000000   \n",
       "3                       599785  ...      31000000000              31000000000   \n",
       "4                     14320103  ...      19239188764               1243765450   \n",
       "\n",
       "   transaction_type  receipt_effective_gas_price  \\\n",
       "0                 2                  32035059237   \n",
       "1                 2                  35887544445   \n",
       "2                 2                  32047544445   \n",
       "3                 2                  31000000000   \n",
       "4                 2                  17491940126   \n",
       "\n",
       "                                             receipt approx_exec_timestamp  \\\n",
       "0  (blockHash, blockNumber, contractAddress, cumu...   2022-07-04 18:40:00   \n",
       "1  (blockHash, blockNumber, contractAddress, cumu...   2022-07-04 18:40:00   \n",
       "2  (blockHash, blockNumber, contractAddress, cumu...   2022-07-04 18:40:00   \n",
       "3  (blockHash, blockNumber, contractAddress, cumu...   2022-07-04 20:56:32   \n",
       "4  (blockHash, blockNumber, contractAddress, cumu...   2022-07-04 20:56:32   \n",
       "\n",
       "   gas_cost_gwei  gas_cost_eth   eth_to_usd  gas_cost_usd  \n",
       "0         186594      0.000187  1074.607318      0.200515  \n",
       "1          28547      0.000029  1074.607318      0.030677  \n",
       "2          96408      0.000096  1074.607318      0.103601  \n",
       "3         145659      0.000146  1074.607318      0.156526  \n",
       "4          26170      0.000026  1074.607318      0.028122  \n",
       "\n",
       "[5 rows x 26 columns]"
      ]
     },
     "execution_count": 10,
     "metadata": {},
     "output_type": "execute_result"
    }
   ],
   "source": [
    "df"
   ]
  },
  {
   "cell_type": "code",
   "execution_count": null,
   "metadata": {},
   "outputs": [],
   "source": []
  }
 ],
 "metadata": {
  "kernelspec": {
   "display_name": "Python 3 (ipykernel)",
   "language": "python",
   "name": "python3"
  },
  "language_info": {
   "codemirror_mode": {
    "name": "ipython",
    "version": 3
   },
   "file_extension": ".py",
   "mimetype": "text/x-python",
   "name": "python",
   "nbconvert_exporter": "python",
   "pygments_lexer": "ipython3",
   "version": "3.10.5"
  }
 },
 "nbformat": 4,
 "nbformat_minor": 4
}
